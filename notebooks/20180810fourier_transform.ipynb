{
 "cells": [
  {
   "cell_type": "markdown",
   "metadata": {},
   "source": [
    "# Fourier transform on .wav files- signal decomposition, time and frequency domains"
   ]
  },
  {
   "cell_type": "markdown",
   "metadata": {},
   "source": [
    "In this notebook, I'll begin to explore the Fourier transform. The FT decomposes signals into the frequencies that make it up. If we want to transition from the frequency to the time domain we need the inverse Fourier transform (IFT).   "
   ]
  },
  {
   "cell_type": "code",
   "execution_count": 4,
   "metadata": {
    "collapsed": false
   },
   "outputs": [],
   "source": [
    "import numpy as np\n",
    "import math\n",
    "import matplotlib.pyplot as plt\n",
    "from scipy.io import wavfile\n",
    "from numpy.fft import fft\n",
    "\n",
    "from config import data_dir"
   ]
  },
  {
   "cell_type": "code",
   "execution_count": 55,
   "metadata": {
    "collapsed": false
   },
   "outputs": [
    {
     "name": "stderr",
     "output_type": "stream",
     "text": [
      "/home/stacy/anaconda3/envs/mypyenv/lib/python3.4/site-packages/scipy/io/wavfile.py:267: WavFileWarning: Chunk (non-data) not understood, skipping it.\n",
      "  WavFileWarning)\n"
     ]
    }
   ],
   "source": [
    "rate, data = wavfile.read('/home/stacy/pysandbox/data/M1F1-int16-AFsp.wav') # load the data\n"
   ]
  },
  {
   "cell_type": "code",
   "execution_count": 56,
   "metadata": {
    "collapsed": false
   },
   "outputs": [
    {
     "name": "stdout",
     "output_type": "stream",
     "text": [
      "Array data\n",
      "shape: (23493, 2)\n",
      "dtype: int16\n",
      "min, max: -7125 14325\n",
      "\n"
     ]
    }
   ],
   "source": [
    "def show_info(array_name, array):\n",
    "    print(\"Array\", array_name)\n",
    "    print(\"shape:\", array.shape)\n",
    "    print(\"dtype:\", array.dtype)\n",
    "    print(\"min, max:\", array.min(), array.max())\n",
    "    print()\n",
    "\n",
    "\n",
    "show_info(\"data\", data)"
   ]
  },
  {
   "cell_type": "code",
   "execution_count": 57,
   "metadata": {
    "collapsed": false
   },
   "outputs": [
    {
     "name": "stdout",
     "output_type": "stream",
     "text": [
      "Array sin_data\n",
      "shape: (23493, 2)\n",
      "dtype: float32\n",
      "min, max: -0.999992 0.999991\n",
      "\n",
      "Array scaled\n",
      "shape: (23493, 2)\n",
      "dtype: float32\n",
      "min, max: -32767.0 32767.0\n",
      "\n"
     ]
    }
   ],
   "source": [
    "# Take sine of each element in `data`\n",
    "# The np.sin function is vectorized, so we don't need a for loop\n",
    "sin_data = np.sin(data)\n",
    "\n",
    "show_info(\"sin_data\", sin_data)\n",
    "\n",
    "# Scale up the values to 16 bit integer range and round \n",
    "scaled = np.round(32767 * sin_data)\n",
    "\n",
    "show_info(\"scaled\", scaled)"
   ]
  },
  {
   "cell_type": "code",
   "execution_count": 58,
   "metadata": {
    "collapsed": false
   },
   "outputs": [
    {
     "name": "stdout",
     "output_type": "stream",
     "text": [
      "Array new_data\n",
      "shape: (23493, 2)\n",
      "dtype: int16\n",
      "min, max: -32767 32767\n",
      "\n"
     ]
    }
   ],
   "source": [
    "# Cast `scaled` to an array with a 16 bit signed integer data type.\n",
    "new_data = scaled.astype(np.int16)\n",
    "\n",
    "show_info(\"new_data\", new_data)\n",
    "\n",
    "# Write the data to 'newname.wav'\n",
    "wavfile.write('new_name.wav', rate, new_data)"
   ]
  },
  {
   "cell_type": "code",
   "execution_count": 59,
   "metadata": {
    "collapsed": false,
    "scrolled": true
   },
   "outputs": [
    {
     "name": "stderr",
     "output_type": "stream",
     "text": [
      "/home/stacy/anaconda3/envs/mypyenv/lib/python3.4/site-packages/ipykernel/__main__.py:5: VisibleDeprecationWarning: using a non-integer number instead of an integer will result in an error in the future\n"
     ]
    },
    {
     "data": {
      "image/png": "[encoded data removed]",
      "text/plain": [
       "<matplotlib.figure.Figure at 0x7f8059bd6ba8>"
      ]
     },
     "metadata": {},
     "output_type": "display_data"
    }
   ],
   "source": [
    "a = data.T[0] \n",
    "b = [(element / 2 ** 8) * 2-1 for element in a] # this is 8-bit track, b is now normalized on [-1,1)\n",
    "c = fft(b) # calculate fourier transform (complex numbers list)\n",
    "d = len(c) / 2  # only need half of the fft list\n",
    "plt.plot(abs(c[:(d-1)]),'r') \n",
    "plt.show()"
   ]
  },
  {
   "cell_type": "code",
   "execution_count": null,
   "metadata": {
    "collapsed": true
   },
   "outputs": [],
   "source": []
  },
  {
   "cell_type": "code",
   "execution_count": null,
   "metadata": {
    "collapsed": true
   },
   "outputs": [],
   "source": []
  }
 ],
 "metadata": {
  "kernelspec": {
   "display_name": "Python 3",
   "language": "python",
   "name": "python3"
  },
  "language_info": {
   "codemirror_mode": {
    "name": "ipython",
    "version": 3
   },
   "file_extension": ".py",
   "mimetype": "text/x-python",
   "name": "python",
   "nbconvert_exporter": "python",
   "pygments_lexer": "ipython3",
   "version": "3.4.5"
  }
 },
 "nbformat": 4,
 "nbformat_minor": 2
}
